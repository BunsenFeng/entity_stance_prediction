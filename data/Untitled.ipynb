{
 "cells": [
  {
   "cell_type": "code",
   "execution_count": 1,
   "id": "referenced-asian",
   "metadata": {},
   "outputs": [
    {
     "name": "stdout",
     "output_type": "stream",
     "text": [
      "torch.Size([1069, 1, 768])\n",
      "torch.Size([2, 9248])\n"
     ]
    }
   ],
   "source": [
    "import torch\n",
    "node = torch.load('PSPnode_roberta.pt')\n",
    "print(node.size())\n",
    "edge = torch.load('edge_index.pt')\n",
    "print(edge.size())"
   ]
  },
  {
   "cell_type": "code",
   "execution_count": 6,
   "id": "australian-segment",
   "metadata": {},
   "outputs": [
    {
     "name": "stdout",
     "output_type": "stream",
     "text": [
      "777\n",
      "[143 214  76  26 318]\n",
      "679\n",
      "[296  12  92  45 234]\n"
     ]
    }
   ],
   "source": [
    "import torch\n",
    "import numpy as np\n",
    "a = torch.load('liberal_label.pt')\n",
    "print(len(a))\n",
    "print(np.bincount(a))\n",
    "b = torch.load('conservative_label.pt')\n",
    "print(len(b))\n",
    "print(np.bincount(b))"
   ]
  },
  {
   "cell_type": "code",
   "execution_count": 7,
   "id": "simplified-mirror",
   "metadata": {},
   "outputs": [
    {
     "data": {
      "text/plain": [
       "5"
      ]
     },
     "execution_count": 7,
     "metadata": {},
     "output_type": "execute_result"
    }
   ],
   "source": [
    "a = '12123131231'\n",
    "a.count('1')"
   ]
  },
  {
   "cell_type": "code",
   "execution_count": 9,
   "id": "durable-petroleum",
   "metadata": {},
   "outputs": [
    {
     "name": "stdout",
     "output_type": "stream",
     "text": [
      "1069 10401 154934\n"
     ]
    }
   ],
   "source": [
    "f = open('entity_summary.txt', encoding = 'utf-8')\n",
    "a = 0\n",
    "b = 0\n",
    "c = 0\n",
    "for line in f:\n",
    "    a += 1\n",
    "    b += line.count('.')\n",
    "    c += len(line.strip().split(' '))\n",
    "print(a,b,c)"
   ]
  }
 ],
 "metadata": {
  "kernelspec": {
   "display_name": "Python 3",
   "language": "python",
   "name": "python3"
  },
  "language_info": {
   "codemirror_mode": {
    "name": "ipython",
    "version": 3
   },
   "file_extension": ".py",
   "mimetype": "text/x-python",
   "name": "python",
   "nbconvert_exporter": "python",
   "pygments_lexer": "ipython3",
   "version": "3.9.1"
  }
 },
 "nbformat": 4,
 "nbformat_minor": 5
}
